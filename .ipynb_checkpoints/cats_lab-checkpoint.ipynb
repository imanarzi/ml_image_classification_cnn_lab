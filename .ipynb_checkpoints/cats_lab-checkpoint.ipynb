{
 "cells": [
  {
   "cell_type": "code",
   "execution_count": 1,
   "metadata": {},
   "outputs": [],
   "source": [
    "data_dir = \"../../ml_datasets/cat_dog_data\""
   ]
  },
  {
   "cell_type": "code",
   "execution_count": 2,
   "metadata": {},
   "outputs": [],
   "source": [
    "import numpy as np\n",
    "import matplotlib.pyplot as plt\n",
    "from warnings import simplefilter\n",
    "# ignore all future warnings\n",
    "simplefilter(action='ignore', category=FutureWarning)\n",
    "\n",
    "from PIL import Image\n",
    "from keras import preprocessing"
   ]
  },
  {
   "cell_type": "code",
   "execution_count": 3,
   "metadata": {
    "scrolled": true
   },
   "outputs": [],
   "source": [
    "# Install a conda package (with all its dependencies) in the current Jupyter kernel\n",
    "# this will work if you have a clean installation of anaconda\n",
    "# import sys\n",
    "# !conda install --yes --prefix {sys.prefix} keras"
   ]
  },
  {
   "cell_type": "code",
   "execution_count": 4,
   "metadata": {},
   "outputs": [],
   "source": [
    "# Alternatively - install keras package and its dependencies using pip\n",
    "import sys\n",
    "# !pip install --upgrade tensorflow\n",
    "# !pip install --upgrade keras"
   ]
  },
  {
   "cell_type": "code",
   "execution_count": 5,
   "metadata": {},
   "outputs": [
    {
     "name": "stdout",
     "output_type": "stream",
     "text": [
      "['dog.jpg', '.DS_Store', 'cat.jpg', 'training_set', 'test_set']\n"
     ]
    }
   ],
   "source": [
    "import os\n",
    "cwd = os.getcwd()\n",
    "os.chdir(cwd)\n",
    "print(os.listdir(data_dir))"
   ]
  },
  {
   "cell_type": "markdown",
   "metadata": {},
   "source": [
    "## Prep train data"
   ]
  },
  {
   "cell_type": "code",
   "execution_count": 6,
   "metadata": {},
   "outputs": [
    {
     "data": {
      "text/plain": [
       "(4000, 4000)"
      ]
     },
     "execution_count": 6,
     "metadata": {},
     "output_type": "execute_result"
    }
   ],
   "source": [
    "train_cats_files = []\n",
    "train_path_cats = data_dir +\"/training_set/cats/\"\n",
    "for path in os.listdir(train_path_cats):\n",
    "    if '.jpg' in path:\n",
    "        train_cats_files.append(os.path.join(train_path_cats, path))\n",
    "        \n",
    "train_dogs_files = []\n",
    "train_path_dogs = data_dir +\"/training_set/dogs/\"\n",
    "for path in os.listdir(train_path_dogs):\n",
    "    if '.jpg' in path:\n",
    "        train_dogs_files.append(os.path.join(train_path_dogs, path))\n",
    "        \n",
    "len(train_cats_files), len(train_dogs_files)"
   ]
  },
  {
   "cell_type": "markdown",
   "metadata": {},
   "source": [
    "Convert each image to numpy array "
   ]
  },
  {
   "cell_type": "code",
   "execution_count": 7,
   "metadata": {},
   "outputs": [],
   "source": [
    "k = 200\n",
    "sample_dog_file = train_dogs_files[k]\n",
    "img = preprocessing.image.load_img(sample_dog_file, target_size=(64, 64))\n",
    "img_array = preprocessing.image.img_to_array(img)"
   ]
  },
  {
   "cell_type": "code",
   "execution_count": 8,
   "metadata": {},
   "outputs": [
    {
     "data": {
      "text/plain": [
       "<matplotlib.image.AxesImage at 0x13cf9e5b0>"
      ]
     },
     "execution_count": 8,
     "metadata": {},
     "output_type": "execute_result"
    },
    {
     "data": {
      "image/png": "[encoded data removed]",
      "text/plain": [
       "<Figure size 432x288 with 1 Axes>"
      ]
     },
     "metadata": {
      "needs_background": "light"
     },
     "output_type": "display_data"
    }
   ],
   "source": [
    "plt.imshow(np.uint8(img_array))"
   ]
  },
  {
   "cell_type": "code",
   "execution_count": 9,
   "metadata": {},
   "outputs": [
    {
     "data": {
      "text/plain": [
       "(64, 64, 3)"
      ]
     },
     "execution_count": 9,
     "metadata": {},
     "output_type": "execute_result"
    }
   ],
   "source": [
    "img_array.shape\n",
    "# print(img_array)"
   ]
  },
  {
   "cell_type": "markdown",
   "metadata": {},
   "source": [
    "Each image is represented as a $64*64$ matrix of pixels, and for each pixel we have values of Red, Green, and Blue (RGB). "
   ]
  },
  {
   "cell_type": "code",
   "execution_count": 10,
   "metadata": {},
   "outputs": [
    {
     "data": {
      "text/plain": [
       "(8000, 32, 32, 3)"
      ]
     },
     "execution_count": 10,
     "metadata": {},
     "output_type": "execute_result"
    }
   ],
   "source": [
    "# image dimensions: using 32x32 pixels just for speed\n",
    "d = 32\n",
    "X_train_orig = np.zeros((8000, d, d, 3), dtype='float32')\n",
    "for i in range(4000):    \n",
    "    path = train_cats_files[i]\n",
    "    img = preprocessing.image.load_img(path, target_size=(d, d))\n",
    "    X_train_orig[i] = preprocessing.image.img_to_array(img)\n",
    "\n",
    "for i in range(4000,8000):    \n",
    "    path = train_dogs_files[i-4000]\n",
    "    img = preprocessing.image.load_img(path, target_size=(d, d))\n",
    "    X_train_orig[i] = preprocessing.image.img_to_array(img)    \n",
    "\n",
    "X_train_orig.shape"
   ]
  },
  {
   "cell_type": "markdown",
   "metadata": {},
   "source": [
    "Normalize the train data to be values between 0-1"
   ]
  },
  {
   "cell_type": "code",
   "execution_count": 11,
   "metadata": {},
   "outputs": [],
   "source": [
    "X_train = X_train_orig / 255.0"
   ]
  },
  {
   "cell_type": "markdown",
   "metadata": {},
   "source": [
    "### Make labels for train data"
   ]
  },
  {
   "cell_type": "code",
   "execution_count": 12,
   "metadata": {},
   "outputs": [
    {
     "data": {
      "text/plain": [
       "(8000,)"
      ]
     },
     "execution_count": 12,
     "metadata": {},
     "output_type": "execute_result"
    }
   ],
   "source": [
    "Y_train_orig = np.ones((4000,)) # 1 - 4000 are cat pictures so our label is 1\n",
    "Y_train_orig = np.concatenate((Y_train_orig, np.zeros((4000,)))) # 4000 - 8000 are dog pictures so our label is 0\n",
    "Y_train = Y_train_orig.reshape(-1)\n",
    "Y_train.shape"
   ]
  },
  {
   "cell_type": "markdown",
   "metadata": {},
   "source": [
    "## Prep test (validation) data"
   ]
  },
  {
   "cell_type": "code",
   "execution_count": 13,
   "metadata": {},
   "outputs": [
    {
     "data": {
      "text/plain": [
       "(1000, 1000)"
      ]
     },
     "execution_count": 13,
     "metadata": {},
     "output_type": "execute_result"
    }
   ],
   "source": [
    "test_cats_files = []\n",
    "test_path_cats = data_dir +\"/test_set/cats/\"\n",
    "# <Your code here>\n",
    "for path in os.listdir(test_path_cats):\n",
    "    if '.jpg' in path:\n",
    "        test_cats_files.append(os.path.join(test_path_cats, path))\n",
    "\n",
    "test_dogs_files = []\n",
    "test_path_dogs = data_dir +\"/test_set/dogs/\"\n",
    "# <Your code here>\n",
    "for path in os.listdir(test_path_dogs):\n",
    "    if '.jpg' in path:\n",
    "        test_dogs_files.append(os.path.join(test_path_dogs, path))\n",
    "        \n",
    "len(test_cats_files), len(test_dogs_files)"
   ]
  },
  {
   "cell_type": "code",
   "execution_count": 14,
   "metadata": {},
   "outputs": [
    {
     "data": {
      "text/plain": [
       "(2000, 32, 32, 3)"
      ]
     },
     "execution_count": 14,
     "metadata": {},
     "output_type": "execute_result"
    }
   ],
   "source": [
    "d=32\n",
    "X_test_orig = np.zeros((2000, d, d, 3), dtype='float32')  \n",
    "for i in range(1000):    \n",
    "    path = test_cats_files[i]\n",
    "    img = preprocessing.image.load_img(path, target_size=(d, d))\n",
    "    X_test_orig[i] = preprocessing.image.img_to_array(img)\n",
    "\n",
    "for i in range(1000,2000):    \n",
    "    path = test_dogs_files[i-1000]\n",
    "    img = preprocessing.image.load_img(path, target_size=(d, d))\n",
    "    X_test_orig[i] = preprocessing.image.img_to_array(img)    \n",
    "\n",
    "X_test_orig.shape"
   ]
  },
  {
   "cell_type": "code",
   "execution_count": 15,
   "metadata": {},
   "outputs": [],
   "source": [
    "X_test = X_test_orig / 255.0"
   ]
  },
  {
   "cell_type": "code",
   "execution_count": 16,
   "metadata": {},
   "outputs": [
    {
     "data": {
      "text/plain": [
       "(2000,)"
      ]
     },
     "execution_count": 16,
     "metadata": {},
     "output_type": "execute_result"
    }
   ],
   "source": [
    "Y_test = np.concatenate((np.ones((1000,)), np.zeros((1000,)))).reshape(-1)\n",
    "Y_test.shape"
   ]
  },
  {
   "cell_type": "markdown",
   "metadata": {},
   "source": [
    "## Create model"
   ]
  },
  {
   "cell_type": "markdown",
   "metadata": {},
   "source": [
    "For my CNN, I added another layer in order to extract more features for the input data. I also increased batch size from 250 to 300.  I used the sigmoid activation function to output activation values between 0 and 1 for binary classification."
   ]
  },
  {
   "cell_type": "code",
   "execution_count": 41,
   "metadata": {},
   "outputs": [],
   "source": [
    "from sklearn.metrics import confusion_matrix\n",
    "import itertools\n",
    "\n",
    "from keras.models import Sequential\n",
    "from keras.layers import Dense, Dropout, Flatten, Conv2D, MaxPool2D\n",
    "from keras.optimizers import RMSprop,Adam\n",
    "from keras.preprocessing.image import ImageDataGenerator\n",
    "from keras.callbacks import ReduceLROnPlateau\n",
    "\n",
    "model = Sequential()\n",
    "#\n",
    "model.add(Conv2D(filters = 8, kernel_size = (3,3),padding = 'Same', \n",
    "                 activation ='relu', input_shape = (d,d,3)))\n",
    "model.add(MaxPool2D(pool_size=(2,2)))\n",
    "model.add(Dropout(0.25))\n",
    "#\n",
    "model.add(Conv2D(filters = 16, kernel_size = (3,3),padding = 'Same', \n",
    "                 activation ='relu'))\n",
    "model.add(MaxPool2D(pool_size=(2,2), strides=(2,2)))\n",
    "model.add(Dropout(0.25))\n",
    "#\n",
    "model.add(Conv2D(filters = 32, kernel_size = (3,3),padding = 'Same', \n",
    "                 activation ='relu'))\n",
    "model.add(MaxPool2D(pool_size=(2,2), strides=(2,2)))\n",
    "model.add(Dropout(0.25))\n",
    "#\n",
    "# fully connected\n",
    "model.add(Flatten())\n",
    "model.add(Dense(128, activation = \"relu\"))\n",
    "model.add(Dropout(0.5))\n",
    "model.add(Dense(1, activation = \"sigmoid\"))"
   ]
  },
  {
   "cell_type": "markdown",
   "metadata": {},
   "source": [
    "Since this is a binary classification tasks, I set your loss function to binary cross entropy in order to calculate the loss for each sample as the model makes predictions. I also used accuracy as my metric."
   ]
  },
  {
   "cell_type": "code",
   "execution_count": 60,
   "metadata": {},
   "outputs": [],
   "source": [
    "# Define the optimizer\n",
    "optimizer = Adam(lr=0.001, beta_1=0.9, beta_2=0.999)"
   ]
  },
  {
   "cell_type": "code",
   "execution_count": 61,
   "metadata": {},
   "outputs": [],
   "source": [
    "# Compile the model\n",
    "model.compile(optimizer = optimizer , loss = 'binary_crossentropy', metrics=[\"accuracy\"])"
   ]
  },
  {
   "cell_type": "code",
   "execution_count": 67,
   "metadata": {},
   "outputs": [],
   "source": [
    "epochs = 50 \n",
    "batch_size = 300"
   ]
  },
  {
   "cell_type": "code",
   "execution_count": 68,
   "metadata": {},
   "outputs": [],
   "source": [
    "datagen = ImageDataGenerator(\n",
    "        featurewise_center=False,  # set input mean to 0 over the dataset\n",
    "        samplewise_center=False,  # set each sample mean to 0\n",
    "        featurewise_std_normalization=False,  # divide inputs by std of the dataset\n",
    "        samplewise_std_normalization=False,  # divide each input by its std\n",
    "        zca_whitening=False,  # dimesion reduction\n",
    "        rotation_range=5,  # randomly rotate images in the range 5 degrees\n",
    "        zoom_range = 0.1, # Randomly zoom image 10%\n",
    "        width_shift_range=0.1,  # randomly shift images horizontally 10%\n",
    "        height_shift_range=0.1,  # randomly shift images vertically 10%\n",
    "        horizontal_flip=False,  # randomly flip images\n",
    "        vertical_flip=False)  # randomly flip images\n",
    "\n",
    "datagen.fit(X_train)"
   ]
  },
  {
   "cell_type": "code",
   "execution_count": 69,
   "metadata": {},
   "outputs": [
    {
     "name": "stdout",
     "output_type": "stream",
     "text": [
      "Epoch 1/50\n",
      "26/26 [==============================] - 9s 330ms/step - loss: 0.5547 - accuracy: 0.7091 - val_loss: 0.5789 - val_accuracy: 0.6790\n",
      "Epoch 2/50\n",
      "26/26 [==============================] - 7s 288ms/step - loss: 0.5490 - accuracy: 0.7183 - val_loss: 0.5634 - val_accuracy: 0.7010\n",
      "Epoch 3/50\n",
      "26/26 [==============================] - 10s 394ms/step - loss: 0.5471 - accuracy: 0.7160 - val_loss: 0.5708 - val_accuracy: 0.6965\n",
      "Epoch 4/50\n",
      "26/26 [==============================] - 8s 305ms/step - loss: 0.5613 - accuracy: 0.7162 - val_loss: 0.5597 - val_accuracy: 0.7085\n",
      "Epoch 5/50\n",
      "26/26 [==============================] - 9s 347ms/step - loss: 0.5467 - accuracy: 0.7244 - val_loss: 0.5646 - val_accuracy: 0.6975\n",
      "Epoch 6/50\n",
      "26/26 [==============================] - 8s 321ms/step - loss: 0.5510 - accuracy: 0.7206 - val_loss: 0.6123 - val_accuracy: 0.6700\n",
      "Epoch 7/50\n",
      "26/26 [==============================] - 8s 314ms/step - loss: 0.5448 - accuracy: 0.7229 - val_loss: 0.5777 - val_accuracy: 0.6775\n",
      "Epoch 8/50\n",
      "26/26 [==============================] - 9s 361ms/step - loss: 0.5470 - accuracy: 0.7226 - val_loss: 0.5953 - val_accuracy: 0.6795\n",
      "Epoch 9/50\n",
      "26/26 [==============================] - 10s 367ms/step - loss: 0.5465 - accuracy: 0.7174 - val_loss: 0.6006 - val_accuracy: 0.6635\n",
      "Epoch 10/50\n",
      "26/26 [==============================] - 10s 399ms/step - loss: 0.5440 - accuracy: 0.7208 - val_loss: 0.5717 - val_accuracy: 0.6920\n",
      "Epoch 11/50\n",
      "26/26 [==============================] - 12s 459ms/step - loss: 0.5385 - accuracy: 0.7265 - val_loss: 0.5857 - val_accuracy: 0.6825\n",
      "Epoch 12/50\n",
      "26/26 [==============================] - 8s 313ms/step - loss: 0.5348 - accuracy: 0.7318 - val_loss: 0.6315 - val_accuracy: 0.6605\n",
      "Epoch 13/50\n",
      "26/26 [==============================] - 7s 278ms/step - loss: 0.5358 - accuracy: 0.7216 - val_loss: 0.6052 - val_accuracy: 0.6800\n",
      "Epoch 14/50\n",
      "26/26 [==============================] - 9s 331ms/step - loss: 0.5509 - accuracy: 0.7138 - val_loss: 0.5679 - val_accuracy: 0.6965\n",
      "Epoch 15/50\n",
      "26/26 [==============================] - 11s 405ms/step - loss: 0.5374 - accuracy: 0.7278 - val_loss: 0.5670 - val_accuracy: 0.7025\n",
      "Epoch 16/50\n",
      "26/26 [==============================] - 11s 427ms/step - loss: 0.5420 - accuracy: 0.7219 - val_loss: 0.5962 - val_accuracy: 0.6890\n",
      "Epoch 17/50\n",
      "26/26 [==============================] - 9s 329ms/step - loss: 0.5377 - accuracy: 0.7301 - val_loss: 0.5843 - val_accuracy: 0.6895\n",
      "Epoch 18/50\n",
      "26/26 [==============================] - 9s 330ms/step - loss: 0.5400 - accuracy: 0.7174 - val_loss: 0.5540 - val_accuracy: 0.7065\n",
      "Epoch 19/50\n",
      "26/26 [==============================] - 8s 321ms/step - loss: 0.5355 - accuracy: 0.7266 - val_loss: 0.6196 - val_accuracy: 0.6560\n",
      "Epoch 20/50\n",
      "26/26 [==============================] - 8s 322ms/step - loss: 0.5427 - accuracy: 0.7184 - val_loss: 0.5533 - val_accuracy: 0.7035\n",
      "Epoch 21/50\n",
      "26/26 [==============================] - 9s 361ms/step - loss: 0.5385 - accuracy: 0.7257 - val_loss: 0.5429 - val_accuracy: 0.7115\n",
      "Epoch 22/50\n",
      "26/26 [==============================] - 8s 322ms/step - loss: 0.5339 - accuracy: 0.7343 - val_loss: 0.5929 - val_accuracy: 0.6850\n",
      "Epoch 23/50\n",
      "26/26 [==============================] - 9s 336ms/step - loss: 0.5326 - accuracy: 0.7296 - val_loss: 0.5683 - val_accuracy: 0.6930\n",
      "Epoch 24/50\n",
      "26/26 [==============================] - 9s 330ms/step - loss: 0.5253 - accuracy: 0.7364 - val_loss: 0.5394 - val_accuracy: 0.7250\n",
      "Epoch 25/50\n",
      "26/26 [==============================] - 8s 322ms/step - loss: 0.5317 - accuracy: 0.7336 - val_loss: 0.6037 - val_accuracy: 0.6600\n",
      "Epoch 26/50\n",
      "26/26 [==============================] - 8s 313ms/step - loss: 0.5250 - accuracy: 0.7347 - val_loss: 0.5739 - val_accuracy: 0.6950\n",
      "Epoch 27/50\n",
      "26/26 [==============================] - 9s 328ms/step - loss: 0.5282 - accuracy: 0.7362 - val_loss: 0.6138 - val_accuracy: 0.6665\n",
      "Epoch 28/50\n",
      "26/26 [==============================] - 8s 326ms/step - loss: 0.5383 - accuracy: 0.7244 - val_loss: 0.5355 - val_accuracy: 0.7250\n",
      "Epoch 29/50\n",
      "26/26 [==============================] - 9s 349ms/step - loss: 0.5266 - accuracy: 0.7392 - val_loss: 0.5483 - val_accuracy: 0.7155\n",
      "Epoch 30/50\n",
      "26/26 [==============================] - 10s 381ms/step - loss: 0.5235 - accuracy: 0.7365 - val_loss: 0.5557 - val_accuracy: 0.7075\n",
      "Epoch 31/50\n",
      "26/26 [==============================] - 8s 308ms/step - loss: 0.5211 - accuracy: 0.7423 - val_loss: 0.5733 - val_accuracy: 0.6905\n",
      "Epoch 32/50\n",
      "26/26 [==============================] - 7s 274ms/step - loss: 0.5210 - accuracy: 0.7391 - val_loss: 0.5560 - val_accuracy: 0.7000\n",
      "Epoch 33/50\n",
      "26/26 [==============================] - 8s 310ms/step - loss: 0.5214 - accuracy: 0.7408 - val_loss: 0.5818 - val_accuracy: 0.6905\n",
      "Epoch 34/50\n",
      "26/26 [==============================] - 9s 341ms/step - loss: 0.5184 - accuracy: 0.7362 - val_loss: 0.5413 - val_accuracy: 0.7140\n",
      "Epoch 35/50\n",
      "26/26 [==============================] - 12s 458ms/step - loss: 0.5292 - accuracy: 0.7336 - val_loss: 0.5543 - val_accuracy: 0.7130\n",
      "Epoch 36/50\n",
      "26/26 [==============================] - 8s 292ms/step - loss: 0.5245 - accuracy: 0.7405 - val_loss: 0.5408 - val_accuracy: 0.7095\n",
      "Epoch 37/50\n",
      "26/26 [==============================] - 8s 307ms/step - loss: 0.5237 - accuracy: 0.7375 - val_loss: 0.5777 - val_accuracy: 0.6830\n",
      "Epoch 38/50\n",
      "26/26 [==============================] - 8s 295ms/step - loss: 0.5163 - accuracy: 0.7374 - val_loss: 0.5853 - val_accuracy: 0.6840\n",
      "Epoch 39/50\n",
      "26/26 [==============================] - 10s 378ms/step - loss: 0.5192 - accuracy: 0.7427 - val_loss: 0.5750 - val_accuracy: 0.6940\n",
      "Epoch 40/50\n",
      "26/26 [==============================] - 8s 325ms/step - loss: 0.5144 - accuracy: 0.7423 - val_loss: 0.5835 - val_accuracy: 0.7010\n",
      "Epoch 41/50\n",
      "26/26 [==============================] - 8s 326ms/step - loss: 0.5133 - accuracy: 0.7438 - val_loss: 0.5735 - val_accuracy: 0.6945\n",
      "Epoch 42/50\n",
      "26/26 [==============================] - 8s 318ms/step - loss: 0.5172 - accuracy: 0.7414 - val_loss: 0.5584 - val_accuracy: 0.7035\n",
      "Epoch 43/50\n",
      "26/26 [==============================] - 8s 296ms/step - loss: 0.5185 - accuracy: 0.7396 - val_loss: 0.5499 - val_accuracy: 0.7130\n",
      "Epoch 44/50\n",
      "26/26 [==============================] - 10s 378ms/step - loss: 0.5239 - accuracy: 0.7342 - val_loss: 0.5540 - val_accuracy: 0.7090\n",
      "Epoch 45/50\n",
      "26/26 [==============================] - 9s 357ms/step - loss: 0.5186 - accuracy: 0.7421 - val_loss: 0.5401 - val_accuracy: 0.7255\n",
      "Epoch 46/50\n",
      "26/26 [==============================] - 9s 345ms/step - loss: 0.5215 - accuracy: 0.7369 - val_loss: 0.6015 - val_accuracy: 0.6755\n",
      "Epoch 47/50\n",
      "26/26 [==============================] - 8s 299ms/step - loss: 0.5162 - accuracy: 0.7427 - val_loss: 0.5439 - val_accuracy: 0.7160\n",
      "Epoch 48/50\n",
      "26/26 [==============================] - 7s 274ms/step - loss: 0.5117 - accuracy: 0.7460 - val_loss: 0.5368 - val_accuracy: 0.7265\n",
      "Epoch 49/50\n",
      "26/26 [==============================] - 7s 275ms/step - loss: 0.5147 - accuracy: 0.7484 - val_loss: 0.5654 - val_accuracy: 0.7080\n",
      "Epoch 50/50\n",
      "26/26 [==============================] - 7s 275ms/step - loss: 0.5082 - accuracy: 0.7574 - val_loss: 0.5255 - val_accuracy: 0.7250\n"
     ]
    }
   ],
   "source": [
    "# Fit the model\n",
    "history = model.fit_generator(datagen.flow(X_train,Y_train, batch_size=batch_size),\n",
    "                              epochs = epochs, validation_data = (X_test,Y_test), steps_per_epoch=X_train.shape[0] // batch_size)"
   ]
  },
  {
   "cell_type": "code",
   "execution_count": 73,
   "metadata": {},
   "outputs": [
    {
     "data": {
      "image/png": "[encoded data removed]",
      "text/plain": [
       "<Figure size 432x288 with 1 Axes>"
      ]
     },
     "metadata": {
      "needs_background": "light"
     },
     "output_type": "display_data"
    }
   ],
   "source": [
    "# Plot the loss and accuracy curves for training and validation \n",
    "plt.plot(history.history['val_loss'], color='b', label=\"validation loss\")\n",
    "plt.plot(history.history['val_accuracy'], color='g', label=\"validation accuracy\")\n",
    "plt.plot(history.history['accuracy'], color='r', label=\"accuracy\")\n",
    "plt.title(\"Test Loss\")\n",
    "plt.xlabel(\"Number of Epochs\")\n",
    "plt.ylabel(\"Loss\")\n",
    "plt.legend()\n",
    "plt.show()"
   ]
  },
  {
   "cell_type": "code",
   "execution_count": 71,
   "metadata": {},
   "outputs": [
    {
     "data": {
      "image/png": "[encoded data removed]",
      "text/plain": [
       "<Figure size 576x576 with 2 Axes>"
      ]
     },
     "metadata": {
      "needs_background": "light"
     },
     "output_type": "display_data"
    }
   ],
   "source": [
    "# confusion matrix\n",
    "import seaborn as sns\n",
    "# Predict the values from the validation dataset\n",
    "Y_pred = model.predict_classes(X_test)\n",
    "# compute the confusion matrix\n",
    "confusion_mtx = confusion_matrix(Y_test, Y_pred) \n",
    "# plot the confusion matrix\n",
    "f,ax = plt.subplots(figsize=(8, 8))\n",
    "sns.heatmap(confusion_mtx, annot=True, linewidths=0.01,cmap=\"Greens\",linecolor=\"gray\", fmt= '.1f',ax=ax)\n",
    "plt.xlabel(\"Predicted Label\")\n",
    "plt.ylabel(\"True Label\")\n",
    "plt.title(\"Confusion Matrix\")\n",
    "plt.show()"
   ]
  },
  {
   "cell_type": "code",
   "execution_count": null,
   "metadata": {},
   "outputs": [],
   "source": []
  }
 ],
 "metadata": {
  "kernelspec": {
   "display_name": "Python 3",
   "language": "python",
   "name": "python3"
  },
  "language_info": {
   "codemirror_mode": {
    "name": "ipython",
    "version": 3
   },
   "file_extension": ".py",
   "mimetype": "text/x-python",
   "name": "python",
   "nbconvert_exporter": "python",
   "pygments_lexer": "ipython3",
   "version": "3.8.3"
  }
 },
 "nbformat": 4,
 "nbformat_minor": 4
}
