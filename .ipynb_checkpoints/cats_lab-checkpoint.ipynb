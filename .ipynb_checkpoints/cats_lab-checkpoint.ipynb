{
 "cells": [
  {
   "cell_type": "code",
   "execution_count": 1,
   "metadata": {},
   "outputs": [],
   "source": [
    "data_dir = \"../../ml_datasets/cat_dog_data\""
   ]
  },
  {
   "cell_type": "code",
   "execution_count": 2,
   "metadata": {},
   "outputs": [],
   "source": [
    "import numpy as np\n",
    "import matplotlib.pyplot as plt\n",
    "from warnings import simplefilter\n",
    "# ignore all future warnings\n",
    "simplefilter(action='ignore', category=FutureWarning)\n",
    "\n",
    "from PIL import Image\n",
    "from keras import preprocessing"
   ]
  },
  {
   "cell_type": "code",
   "execution_count": 3,
   "metadata": {
    "scrolled": true
   },
   "outputs": [],
   "source": [
    "# Install a conda package (with all its dependencies) in the current Jupyter kernel\n",
    "# this will work if you have a clean installation of anaconda\n",
    "# import sys\n",
    "# !conda install --yes --prefix {sys.prefix} keras"
   ]
  },
  {
   "cell_type": "code",
   "execution_count": 4,
   "metadata": {},
   "outputs": [],
   "source": [
    "# Alternatively - install keras package and its dependencies using pip\n",
    "import sys\n",
    "# !pip install --upgrade tensorflow\n",
    "# !pip install --upgrade keras"
   ]
  },
  {
   "cell_type": "code",
   "execution_count": 5,
   "metadata": {},
   "outputs": [
    {
     "name": "stdout",
     "output_type": "stream",
     "text": [
      "['dog.jpg', '.DS_Store', 'cat.jpg', 'training_set', 'test_set']\n"
     ]
    }
   ],
   "source": [
    "import os\n",
    "cwd = os.getcwd()\n",
    "os.chdir(cwd)\n",
    "print(os.listdir(data_dir))"
   ]
  },
  {
   "cell_type": "markdown",
   "metadata": {},
   "source": [
    "## Prep train data"
   ]
  },
  {
   "cell_type": "code",
   "execution_count": 6,
   "metadata": {},
   "outputs": [
    {
     "data": {
      "text/plain": [
       "(4000, 4000)"
      ]
     },
     "execution_count": 6,
     "metadata": {},
     "output_type": "execute_result"
    }
   ],
   "source": [
    "train_cats_files = []\n",
    "train_path_cats = data_dir +\"/training_set/cats/\"\n",
    "for path in os.listdir(train_path_cats):\n",
    "    if '.jpg' in path:\n",
    "        train_cats_files.append(os.path.join(train_path_cats, path))\n",
    "        \n",
    "train_dogs_files = []\n",
    "train_path_dogs = data_dir +\"/training_set/dogs/\"\n",
    "for path in os.listdir(train_path_dogs):\n",
    "    if '.jpg' in path:\n",
    "        train_dogs_files.append(os.path.join(train_path_dogs, path))\n",
    "        \n",
    "len(train_cats_files), len(train_dogs_files)"
   ]
  },
  {
   "cell_type": "markdown",
   "metadata": {},
   "source": [
    "Convert each image to numpy array "
   ]
  },
  {
   "cell_type": "code",
   "execution_count": 7,
   "metadata": {},
   "outputs": [],
   "source": [
    "k = 200\n",
    "sample_dog_file = train_dogs_files[k]\n",
    "img = preprocessing.image.load_img(sample_dog_file, target_size=(64, 64))\n",
    "img_array = preprocessing.image.img_to_array(img)"
   ]
  },
  {
   "cell_type": "code",
   "execution_count": 8,
   "metadata": {},
   "outputs": [
    {
     "data": {
      "text/plain": [
       "<matplotlib.image.AxesImage at 0x149f3e5b0>"
      ]
     },
     "execution_count": 8,
     "metadata": {},
     "output_type": "execute_result"
    },
    {
     "data": {
      "image/png": "[encoded data removed]",
      "text/plain": [
       "<Figure size 432x288 with 1 Axes>"
      ]
     },
     "metadata": {
      "needs_background": "light"
     },
     "output_type": "display_data"
    }
   ],
   "source": [
    "plt.imshow(np.uint8(img_array))"
   ]
  },
  {
   "cell_type": "code",
   "execution_count": 9,
   "metadata": {},
   "outputs": [
    {
     "data": {
      "text/plain": [
       "(64, 64, 3)"
      ]
     },
     "execution_count": 9,
     "metadata": {},
     "output_type": "execute_result"
    }
   ],
   "source": [
    "img_array.shape\n",
    "# print(img_array)"
   ]
  },
  {
   "cell_type": "markdown",
   "metadata": {},
   "source": [
    "Each image is represented as a $64*64$ matrix of pixels, and for each pixel we have values of Red, Green, and Blue (RGB). "
   ]
  },
  {
   "cell_type": "code",
   "execution_count": 10,
   "metadata": {},
   "outputs": [
    {
     "data": {
      "text/plain": [
       "(8000, 32, 32, 3)"
      ]
     },
     "execution_count": 10,
     "metadata": {},
     "output_type": "execute_result"
    }
   ],
   "source": [
    "# image dimensions: using 32x32 pixels just for speed\n",
    "d = 32\n",
    "X_train_orig = np.zeros((8000, d, d, 3), dtype='float32')\n",
    "for i in range(4000):    \n",
    "    path = train_cats_files[i]\n",
    "    img = preprocessing.image.load_img(path, target_size=(d, d))\n",
    "    X_train_orig[i] = preprocessing.image.img_to_array(img)\n",
    "\n",
    "for i in range(4000,8000):    \n",
    "    path = train_dogs_files[i-4000]\n",
    "    img = preprocessing.image.load_img(path, target_size=(d, d))\n",
    "    X_train_orig[i] = preprocessing.image.img_to_array(img)    \n",
    "\n",
    "X_train_orig.shape"
   ]
  },
  {
   "cell_type": "markdown",
   "metadata": {},
   "source": [
    "Normalize the train data to be values between 0-1"
   ]
  },
  {
   "cell_type": "code",
   "execution_count": 11,
   "metadata": {},
   "outputs": [],
   "source": [
    "X_train = X_train_orig / 255.0"
   ]
  },
  {
   "cell_type": "markdown",
   "metadata": {},
   "source": [
    "### Make labels for train data"
   ]
  },
  {
   "cell_type": "code",
   "execution_count": 12,
   "metadata": {},
   "outputs": [
    {
     "data": {
      "text/plain": [
       "(8000,)"
      ]
     },
     "execution_count": 12,
     "metadata": {},
     "output_type": "execute_result"
    }
   ],
   "source": [
    "Y_train_orig = np.ones((4000,)) # 1 - 4000 are cat pictures so our label is 1\n",
    "Y_train_orig = np.concatenate((Y_train_orig, np.zeros((4000,)))) # 4000 - 8000 are dog pictures so our label is 0\n",
    "Y_train = Y_train_orig.reshape(-1)\n",
    "Y_train.shape"
   ]
  },
  {
   "cell_type": "markdown",
   "metadata": {},
   "source": [
    "## Prep test (validation) data"
   ]
  },
  {
   "cell_type": "code",
   "execution_count": 13,
   "metadata": {},
   "outputs": [
    {
     "data": {
      "text/plain": [
       "(1000, 1000)"
      ]
     },
     "execution_count": 13,
     "metadata": {},
     "output_type": "execute_result"
    }
   ],
   "source": [
    "test_cats_files = []\n",
    "test_path_cats = data_dir +\"/test_set/cats/\"\n",
    "# <Your code here>\n",
    "for path in os.listdir(test_path_cats):\n",
    "    if '.jpg' in path:\n",
    "        test_cats_files.append(os.path.join(test_path_cats, path))\n",
    "\n",
    "test_dogs_files = []\n",
    "test_path_dogs = data_dir +\"/test_set/dogs/\"\n",
    "# <Your code here>\n",
    "for path in os.listdir(test_path_dogs):\n",
    "    if '.jpg' in path:\n",
    "        test_dogs_files.append(os.path.join(test_path_dogs, path))\n",
    "        \n",
    "len(test_cats_files), len(test_dogs_files)"
   ]
  },
  {
   "cell_type": "code",
   "execution_count": 14,
   "metadata": {},
   "outputs": [
    {
     "data": {
      "text/plain": [
       "(2000, 32, 32, 3)"
      ]
     },
     "execution_count": 14,
     "metadata": {},
     "output_type": "execute_result"
    }
   ],
   "source": [
    "d=32\n",
    "X_test_orig = np.zeros((2000, d, d, 3), dtype='float32')  \n",
    "for i in range(1000):    \n",
    "    path = test_cats_files[i]\n",
    "    img = preprocessing.image.load_img(path, target_size=(d, d))\n",
    "    X_test_orig[i] = preprocessing.image.img_to_array(img)\n",
    "\n",
    "for i in range(1000,2000):    \n",
    "    path = test_dogs_files[i-1000]\n",
    "    img = preprocessing.image.load_img(path, target_size=(d, d))\n",
    "    X_test_orig[i] = preprocessing.image.img_to_array(img)    \n",
    "\n",
    "X_test_orig.shape"
   ]
  },
  {
   "cell_type": "code",
   "execution_count": 15,
   "metadata": {},
   "outputs": [],
   "source": [
    "X_test = X_test_orig / 255.0"
   ]
  },
  {
   "cell_type": "code",
   "execution_count": 16,
   "metadata": {},
   "outputs": [
    {
     "data": {
      "text/plain": [
       "(2000,)"
      ]
     },
     "execution_count": 16,
     "metadata": {},
     "output_type": "execute_result"
    }
   ],
   "source": [
    "Y_test = np.concatenate((np.ones((1000,)), np.zeros((1000,)))).reshape(-1)\n",
    "Y_test.shape"
   ]
  },
  {
   "cell_type": "markdown",
   "metadata": {},
   "source": [
    "## Create model"
   ]
  },
  {
   "cell_type": "markdown",
   "metadata": {},
   "source": [
    "For my CNN, I added another layer in order to extract more features for the input data. I also increased batch size from 250 to 300.  I used the sigmoid activation function to output activation values between 0 and 1 for binary classification."
   ]
  },
  {
   "cell_type": "code",
   "execution_count": 238,
   "metadata": {},
   "outputs": [],
   "source": [
    "from sklearn.metrics import confusion_matrix\n",
    "import itertools\n",
    "\n",
    "from keras.models import Sequential, Model\n",
    "from keras.layers import Dense, Dropout, Flatten, Conv2D, MaxPool2D\n",
    "from keras.optimizers import RMSprop,Adam,SGD\n",
    "from keras.applications.vgg16 import VGG16\n",
    "from keras.preprocessing.image import ImageDataGenerator\n",
    "from keras.callbacks import ReduceLROnPlateau\n",
    "\n",
    "model = Sequential()\n",
    "model.add(Conv2D(filters = 8, kernel_size = (3,3),padding = 'Same', activation ='relu', kernel_initializer='he_uniform', input_shape = (d,d,3)))\n",
    "model.add(MaxPool2D(pool_size=(2,2)))\n",
    "#model.add(Dropout(0.25))\n",
    "#\n",
    "model.add(Conv2D(filters = 16, kernel_size = (3,3),padding = 'Same', activation ='relu', kernel_initializer='he_uniform'))\n",
    "model.add(MaxPool2D(pool_size=(2,2), strides=(2,2)))\n",
    "#model.add(Dropout(0.25))\n",
    "#\n",
    "model.add(Conv2D(filters = 32, kernel_size = (3,3),padding = 'Same', activation ='relu', kernel_initializer='he_uniform'))\n",
    "model.add(MaxPool2D(pool_size=(2,2), strides=(2,2)))\n",
    "#model.add(Dropout(0.25))\n",
    "#\n",
    "# fully connected\n",
    "model.add(Flatten())\n",
    "model.add(Dense(128, activation = \"relu\"))\n",
    "#model.add(Dropout(0.5))\n",
    "model.add(Dense(1, activation = \"sigmoid\"))\n"
   ]
  },
  {
   "cell_type": "markdown",
   "metadata": {},
   "source": [
    "Since this is a binary classification tasks, I set your loss function to binary cross entropy in order to calculate the loss for each sample as the model makes predictions. I also used accuracy as my metric."
   ]
  },
  {
   "cell_type": "code",
   "execution_count": 239,
   "metadata": {},
   "outputs": [],
   "source": [
    "# Define the optimizer\n",
    "optimizer = Adam(lr=0.001, beta_1=0.9, beta_2=0.999)"
   ]
  },
  {
   "cell_type": "code",
   "execution_count": 240,
   "metadata": {},
   "outputs": [],
   "source": [
    "# Compile the model\n",
    "model.compile(optimizer = optimizer , loss = 'binary_crossentropy', metrics=[\"accuracy\"])"
   ]
  },
  {
   "cell_type": "code",
   "execution_count": 241,
   "metadata": {},
   "outputs": [],
   "source": [
    "epochs = 50\n",
    "batch_size = 100"
   ]
  },
  {
   "cell_type": "code",
   "execution_count": 242,
   "metadata": {},
   "outputs": [],
   "source": [
    "datagen = ImageDataGenerator(\n",
    "        #featurewise_center=False,  # set input mean to 0 over the dataset\n",
    "        #samplewise_center=False,  # set each sample mean to 0\n",
    "        featurewise_std_normalization=False,  # divide inputs by std of the dataset\n",
    "        samplewise_std_normalization=False,  # divide each input by its std\n",
    "        zca_whitening=False,  # dimesion reduction\n",
    "        rotation_range=5,  # randomly rotate images in the range 5 degrees\n",
    "        zoom_range = 0.1, # Randomly zoom image 10%\n",
    "        width_shift_range=0.1,  # randomly shift images horizontally 10%\n",
    "        height_shift_range=0.1,  # randomly shift images vertically 10%\n",
    "        horizontal_flip=False,  # randomly flip images\n",
    "        vertical_flip=False)  # randomly flip images\n",
    "\n",
    "datagen.fit(X_train)"
   ]
  },
  {
   "cell_type": "code",
   "execution_count": 243,
   "metadata": {},
   "outputs": [
    {
     "name": "stdout",
     "output_type": "stream",
     "text": [
      "Epoch 1/50\n",
      "80/80 [==============================] - 12s 145ms/step - loss: 0.6881 - accuracy: 0.5583 - val_loss: 0.6451 - val_accuracy: 0.6325\n",
      "Epoch 2/50\n",
      "80/80 [==============================] - 12s 145ms/step - loss: 0.6447 - accuracy: 0.6223 - val_loss: 0.7092 - val_accuracy: 0.5565\n",
      "Epoch 3/50\n",
      "80/80 [==============================] - 11s 133ms/step - loss: 0.6229 - accuracy: 0.6510 - val_loss: 0.6713 - val_accuracy: 0.5945\n",
      "Epoch 4/50\n",
      "80/80 [==============================] - 10s 124ms/step - loss: 0.6026 - accuracy: 0.6754 - val_loss: 0.6104 - val_accuracy: 0.6585\n",
      "Epoch 5/50\n",
      "80/80 [==============================] - 10s 123ms/step - loss: 0.5875 - accuracy: 0.6901 - val_loss: 0.6403 - val_accuracy: 0.6325\n",
      "Epoch 6/50\n",
      "80/80 [==============================] - 13s 157ms/step - loss: 0.5733 - accuracy: 0.6955 - val_loss: 0.7284 - val_accuracy: 0.6090\n",
      "Epoch 7/50\n",
      "80/80 [==============================] - 12s 150ms/step - loss: 0.5654 - accuracy: 0.7028 - val_loss: 0.8183 - val_accuracy: 0.5870\n",
      "Epoch 8/50\n",
      "80/80 [==============================] - 10s 129ms/step - loss: 0.5647 - accuracy: 0.7084 - val_loss: 0.7455 - val_accuracy: 0.5970\n",
      "Epoch 9/50\n",
      "80/80 [==============================] - 11s 133ms/step - loss: 0.5587 - accuracy: 0.7116 - val_loss: 0.6669 - val_accuracy: 0.6295\n",
      "Epoch 10/50\n",
      "80/80 [==============================] - 11s 138ms/step - loss: 0.5512 - accuracy: 0.7206 - val_loss: 0.6461 - val_accuracy: 0.6480\n",
      "Epoch 11/50\n",
      "80/80 [==============================] - 9s 116ms/step - loss: 0.5391 - accuracy: 0.7316 - val_loss: 0.5702 - val_accuracy: 0.6965\n",
      "Epoch 12/50\n",
      "80/80 [==============================] - 11s 134ms/step - loss: 0.5364 - accuracy: 0.7253 - val_loss: 0.5314 - val_accuracy: 0.7340\n",
      "Epoch 13/50\n",
      "80/80 [==============================] - 11s 136ms/step - loss: 0.5253 - accuracy: 0.7336 - val_loss: 0.6216 - val_accuracy: 0.6785\n",
      "Epoch 14/50\n",
      "80/80 [==============================] - 9s 118ms/step - loss: 0.5211 - accuracy: 0.7439 - val_loss: 0.5524 - val_accuracy: 0.7150\n",
      "Epoch 15/50\n",
      "80/80 [==============================] - 10s 119ms/step - loss: 0.5151 - accuracy: 0.7480 - val_loss: 0.6014 - val_accuracy: 0.6815\n",
      "Epoch 16/50\n",
      "80/80 [==============================] - 10s 119ms/step - loss: 0.5061 - accuracy: 0.7509 - val_loss: 0.5933 - val_accuracy: 0.6825\n",
      "Epoch 17/50\n",
      "80/80 [==============================] - 9s 116ms/step - loss: 0.5155 - accuracy: 0.7410 - val_loss: 0.5262 - val_accuracy: 0.7420\n",
      "Epoch 18/50\n",
      "80/80 [==============================] - 10s 124ms/step - loss: 0.5064 - accuracy: 0.7487 - val_loss: 0.5882 - val_accuracy: 0.6960\n",
      "Epoch 19/50\n",
      "80/80 [==============================] - 10s 122ms/step - loss: 0.4920 - accuracy: 0.7630 - val_loss: 0.5138 - val_accuracy: 0.7470\n",
      "Epoch 20/50\n",
      "80/80 [==============================] - 10s 123ms/step - loss: 0.4932 - accuracy: 0.7558 - val_loss: 0.5778 - val_accuracy: 0.6955\n",
      "Epoch 21/50\n",
      "80/80 [==============================] - 10s 121ms/step - loss: 0.4878 - accuracy: 0.7607 - val_loss: 0.5123 - val_accuracy: 0.7485\n",
      "Epoch 22/50\n",
      "80/80 [==============================] - 10s 120ms/step - loss: 0.4807 - accuracy: 0.7691 - val_loss: 0.5621 - val_accuracy: 0.7285\n",
      "Epoch 23/50\n",
      "80/80 [==============================] - 10s 120ms/step - loss: 0.4737 - accuracy: 0.7735 - val_loss: 0.5335 - val_accuracy: 0.7320\n",
      "Epoch 24/50\n",
      "80/80 [==============================] - 10s 129ms/step - loss: 0.4749 - accuracy: 0.7691 - val_loss: 0.5263 - val_accuracy: 0.7485\n",
      "Epoch 25/50\n",
      "80/80 [==============================] - 10s 119ms/step - loss: 0.4648 - accuracy: 0.7742 - val_loss: 0.5877 - val_accuracy: 0.7075\n",
      "Epoch 26/50\n",
      "80/80 [==============================] - 10s 120ms/step - loss: 0.4616 - accuracy: 0.7820 - val_loss: 0.5912 - val_accuracy: 0.6915\n",
      "Epoch 27/50\n",
      "80/80 [==============================] - 10s 128ms/step - loss: 0.4647 - accuracy: 0.7795 - val_loss: 0.6066 - val_accuracy: 0.6835\n",
      "Epoch 28/50\n",
      "80/80 [==============================] - 9s 117ms/step - loss: 0.4583 - accuracy: 0.7847 - val_loss: 0.5114 - val_accuracy: 0.7525\n",
      "Epoch 29/50\n",
      "80/80 [==============================] - 9s 117ms/step - loss: 0.4541 - accuracy: 0.7851 - val_loss: 0.5269 - val_accuracy: 0.7420\n",
      "Epoch 30/50\n",
      "80/80 [==============================] - 652s 8s/step - loss: 0.4474 - accuracy: 0.7865 - val_loss: 0.5186 - val_accuracy: 0.7430\n",
      "Epoch 31/50\n",
      "80/80 [==============================] - 15s 183ms/step - loss: 0.4492 - accuracy: 0.7849 - val_loss: 0.4863 - val_accuracy: 0.7730\n",
      "Epoch 32/50\n",
      "80/80 [==============================] - 15s 185ms/step - loss: 0.4487 - accuracy: 0.7880 - val_loss: 0.4962 - val_accuracy: 0.7635\n",
      "Epoch 33/50\n",
      "80/80 [==============================] - 10s 120ms/step - loss: 0.4397 - accuracy: 0.7952 - val_loss: 0.5533 - val_accuracy: 0.7290\n",
      "Epoch 34/50\n",
      "80/80 [==============================] - 9s 113ms/step - loss: 0.4295 - accuracy: 0.7941 - val_loss: 0.5127 - val_accuracy: 0.7520\n",
      "Epoch 35/50\n",
      "80/80 [==============================] - 12s 154ms/step - loss: 0.4270 - accuracy: 0.7984 - val_loss: 0.5543 - val_accuracy: 0.7305\n",
      "Epoch 36/50\n",
      "80/80 [==============================] - 12s 145ms/step - loss: 0.4291 - accuracy: 0.8011 - val_loss: 0.5198 - val_accuracy: 0.7615\n",
      "Epoch 37/50\n",
      "80/80 [==============================] - 10s 129ms/step - loss: 0.4230 - accuracy: 0.8015 - val_loss: 0.5201 - val_accuracy: 0.7460\n",
      "Epoch 38/50\n",
      "80/80 [==============================] - 13s 166ms/step - loss: 0.4237 - accuracy: 0.7972 - val_loss: 0.5192 - val_accuracy: 0.7470\n",
      "Epoch 39/50\n",
      "80/80 [==============================] - 18s 220ms/step - loss: 0.4166 - accuracy: 0.8076 - val_loss: 0.5497 - val_accuracy: 0.7365\n",
      "Epoch 40/50\n",
      "80/80 [==============================] - 13s 162ms/step - loss: 0.4170 - accuracy: 0.8060 - val_loss: 0.5573 - val_accuracy: 0.7450\n",
      "Epoch 41/50\n",
      "80/80 [==============================] - 12s 150ms/step - loss: 0.4069 - accuracy: 0.8058 - val_loss: 0.5231 - val_accuracy: 0.7450\n",
      "Epoch 42/50\n",
      "80/80 [==============================] - 10s 131ms/step - loss: 0.4050 - accuracy: 0.8104 - val_loss: 0.5348 - val_accuracy: 0.7470\n",
      "Epoch 43/50\n",
      "80/80 [==============================] - 10s 126ms/step - loss: 0.4028 - accuracy: 0.8148 - val_loss: 0.5156 - val_accuracy: 0.7540\n",
      "Epoch 44/50\n",
      "80/80 [==============================] - 11s 132ms/step - loss: 0.3930 - accuracy: 0.8206 - val_loss: 0.5956 - val_accuracy: 0.7220\n",
      "Epoch 45/50\n",
      "80/80 [==============================] - 11s 131ms/step - loss: 0.3922 - accuracy: 0.8201 - val_loss: 0.4967 - val_accuracy: 0.7790\n",
      "Epoch 46/50\n",
      "80/80 [==============================] - 11s 142ms/step - loss: 0.3994 - accuracy: 0.8151 - val_loss: 0.5378 - val_accuracy: 0.7500\n",
      "Epoch 47/50\n",
      "80/80 [==============================] - 10s 128ms/step - loss: 0.3929 - accuracy: 0.8227 - val_loss: 0.5005 - val_accuracy: 0.7690\n",
      "Epoch 48/50\n",
      "80/80 [==============================] - 11s 137ms/step - loss: 0.3788 - accuracy: 0.8315 - val_loss: 0.4981 - val_accuracy: 0.7785\n",
      "Epoch 49/50\n",
      "80/80 [==============================] - 10s 128ms/step - loss: 0.3848 - accuracy: 0.8227 - val_loss: 0.5474 - val_accuracy: 0.7410\n",
      "Epoch 50/50\n",
      "80/80 [==============================] - 11s 139ms/step - loss: 0.3770 - accuracy: 0.8296 - val_loss: 0.6051 - val_accuracy: 0.7220\n"
     ]
    }
   ],
   "source": [
    "# Fit the model\n",
    "history = model.fit_generator(datagen.flow(X_train,Y_train, batch_size=batch_size),\n",
    "                              epochs = epochs, validation_data = (X_test,Y_test), steps_per_epoch=X_train.shape[0] // batch_size)\n"
   ]
  },
  {
   "cell_type": "code",
   "execution_count": 244,
   "metadata": {},
   "outputs": [
    {
     "data": {
      "image/png": "[encoded data removed]",
      "text/plain": [
       "<Figure size 432x288 with 1 Axes>"
      ]
     },
     "metadata": {
      "needs_background": "light"
     },
     "output_type": "display_data"
    }
   ],
   "source": [
    "# Plot the loss and accuracy curves for training and validation \n",
    "plt.plot(history.history['val_loss'], color='b', label=\"validation loss\")\n",
    "plt.plot(history.history['val_accuracy'], color='g', label=\"validation accuracy\")\n",
    "plt.plot(history.history['accuracy'], color='r', label=\"accuracy\")\n",
    "plt.title(\"Test Loss\")\n",
    "plt.xlabel(\"Number of Epochs\")\n",
    "#plt.ylabel(\"Loss\")\n",
    "plt.legend()\n",
    "plt.show()"
   ]
  },
  {
   "cell_type": "code",
   "execution_count": 245,
   "metadata": {},
   "outputs": [
    {
     "data": {
      "image/png": "[encoded data removed]",
      "text/plain": [
       "<Figure size 576x576 with 2 Axes>"
      ]
     },
     "metadata": {
      "needs_background": "light"
     },
     "output_type": "display_data"
    }
   ],
   "source": [
    "# confusion matrix\n",
    "import seaborn as sns\n",
    "# Predict the values from the validation dataset\n",
    "Y_pred = model.predict_classes(X_test)\n",
    "# compute the confusion matrix\n",
    "confusion_mtx = confusion_matrix(Y_test, Y_pred) \n",
    "# plot the confusion matrix\n",
    "f,ax = plt.subplots(figsize=(8, 8))\n",
    "sns.heatmap(confusion_mtx, annot=True, linewidths=0.01,cmap=\"Greens\",linecolor=\"gray\", fmt= '.1f',ax=ax)\n",
    "plt.xlabel(\"Predicted Label\")\n",
    "plt.ylabel(\"True Label\")\n",
    "plt.title(\"Confusion Matrix\")\n",
    "plt.show()"
   ]
  },
  {
   "cell_type": "code",
   "execution_count": null,
   "metadata": {},
   "outputs": [],
   "source": []
  },
  {
   "cell_type": "code",
   "execution_count": null,
   "metadata": {},
   "outputs": [],
   "source": []
  }
 ],
 "metadata": {
  "kernelspec": {
   "display_name": "Python 3",
   "language": "python",
   "name": "python3"
  },
  "language_info": {
   "codemirror_mode": {
    "name": "ipython",
    "version": 3
   },
   "file_extension": ".py",
   "mimetype": "text/x-python",
   "name": "python",
   "nbconvert_exporter": "python",
   "pygments_lexer": "ipython3",
   "version": "3.8.3"
  }
 },
 "nbformat": 4,
 "nbformat_minor": 4
}
